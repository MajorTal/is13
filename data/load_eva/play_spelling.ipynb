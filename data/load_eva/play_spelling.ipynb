{
 "metadata": {
  "name": "",
  "signature": "sha256:d24393cca4b48aa5fe81591974d5601cc93229a90d09c5f1713b6903a791c3d1"
 },
 "nbformat": 3,
 "nbformat_minor": 0,
 "worksheets": [
  {
   "cells": [
    {
     "cell_type": "code",
     "collapsed": false,
     "input": [
      "from __future__ import unicode_literals\n",
      "import os\n",
      "from random import random, seed, shuffle, choice\n",
      "import numpy as np\n",
      "import json\n",
      "SESSION_PATH = \"/home/tal/workspace/sessions\""
     ],
     "language": "python",
     "metadata": {},
     "outputs": []
    },
    {
     "cell_type": "code",
     "collapsed": false,
     "input": [
      "def create_test(sentence, probability):\n",
      "    \"\"\"Concatenate some words\"\"\"\n",
      "    w_errors = \"\"\n",
      "    for char in sentence:\n",
      "        if random() > probability:\n",
      "            w_errors += char\n",
      "        else: # Inject a substitution error \n",
      "            err_char = choice(list(set(\"abcdefghijklmnopqrstuvwxyz \") - set([char.lower()])))\n",
      "            if char.isupper():\n",
      "                err_char = err_char.upper()\n",
      "            w_errors += err_char\n",
      "    return w_errors, sentence\n",
      "\n",
      "x = create_test(\"the quick brown fox jumped over the fence\".upper(), probability = 0.1)\n",
      "print x[0]\n",
      "print x[1]"
     ],
     "language": "python",
     "metadata": {},
     "outputs": [
      {
       "output_type": "stream",
       "stream": "stdout",
       "text": [
        "TH  QUIGKoBROGN FOX JUMPHE OVER THB FENCJ\n",
        "THE QUICK BROWN FOX JUMPED OVER THE FENCE\n"
       ]
      }
     ],
     "prompt_number": 39
    },
    {
     "cell_type": "code",
     "collapsed": false,
     "input": [
      "choice(list(set(\"abc\") - set([\"a\"])))"
     ],
     "language": "python",
     "metadata": {},
     "outputs": [
      {
       "metadata": {},
       "output_type": "pyout",
       "prompt_number": 34,
       "text": [
        "u'c'"
       ]
      }
     ],
     "prompt_number": 34
    },
    {
     "cell_type": "code",
     "collapsed": false,
     "input": [
      ".99 * 20 + 80"
     ],
     "language": "python",
     "metadata": {},
     "outputs": []
    },
    {
     "cell_type": "code",
     "collapsed": false,
     "input": [
      "def get_session_files(number_of_files=None, random_seed=None):\n",
      "    \"\"\"Get shuffled session files\"\"\"\n",
      "    _session_files = [os.path.join(SESSION_PATH, f) for f in os.listdir(SESSION_PATH) if f.endswith(\"json\")]\n",
      "    session_files = [f for f in _session_files if os.path.isfile(f)]\n",
      "    if random_seed is not None:\n",
      "        seed(random_seed)\n",
      "    shuffle(session_files)\n",
      "    if number_of_files:\n",
      "        session_files = session_files[:number_of_files]\n",
      "    return session_files"
     ],
     "language": "python",
     "metadata": {},
     "outputs": []
    },
    {
     "cell_type": "code",
     "collapsed": false,
     "input": [
      "session_files = get_session_files(number_of_files = None, random_seed=123) # Limit the scope To speed things up..."
     ],
     "language": "python",
     "metadata": {},
     "outputs": []
    },
    {
     "cell_type": "code",
     "collapsed": false,
     "input": [
      "def session_to_text0(session):\n",
      "    \"\"\"Get the first text utterence in a session\"\"\"\n",
      "    utterance = session[\"utterances\"][0]\n",
      "    return utterance[\"text\"]"
     ],
     "language": "python",
     "metadata": {},
     "outputs": []
    },
    {
     "cell_type": "code",
     "collapsed": false,
     "input": [
      "LABELS2IDX = {\"_\":0, \"X\": 1}\n",
      "sentences = []\n",
      "idxes = []\n",
      "labels_idxes = []\n",
      "labels = []\n",
      "for session_file in session_files:\n",
      "    session = json.loads(open(session_file, \"rb\").read())\n",
      "    sentence = session_to_text0(session)\n",
      "    if not sentence.strip():\n",
      "        continue\n",
      "    sentence_out, label = create_test(sentence, probability = 0.01)\n",
      "    sentences.append(sentence_out)\n",
      "    labels.append(label)\n",
      "    labels_idxes.append(np.fromiter((LABELS2IDX[l] for l in label), dtype=np.uint8))\n",
      "    idxes.append(np.fromiter((ord(char) for char in sentence_out), dtype=np.uint8))"
     ],
     "language": "python",
     "metadata": {},
     "outputs": []
    },
    {
     "cell_type": "code",
     "collapsed": false,
     "input": [
      "sentences[1]"
     ],
     "language": "python",
     "metadata": {},
     "outputs": []
    },
    {
     "cell_type": "code",
     "collapsed": false,
     "input": [
      "labels[1]"
     ],
     "language": "python",
     "metadata": {},
     "outputs": []
    },
    {
     "cell_type": "code",
     "collapsed": false,
     "input": [
      "for ind, l in enumerate(labels):\n",
      "    if \"X\" in l:\n",
      "        print sentences[ind]\n",
      "        print labels[ind]\n",
      "        print idxes[ind]\n",
      "        print labels_idxes[ind]\n",
      "        print"
     ],
     "language": "python",
     "metadata": {},
     "outputs": []
    },
    {
     "cell_type": "code",
     "collapsed": false,
     "input": [
      "\"\".join(chr(int(word)) for word in \"104 111 116 101 108 115  32 110 101  97 114  32 109 101\".split())"
     ],
     "language": "python",
     "metadata": {},
     "outputs": []
    },
    {
     "cell_type": "code",
     "collapsed": false,
     "input": [
      "test_filename = \"/home/tal/workspace/is13/data/load_eva_2/best.test.txt\"\n",
      "testlines = open(test_filename).readlines()\n",
      "sentence = \"\"\n",
      "output = \"\"\n",
      "for line in testlines:\n",
      "    if not line.strip() or line.startswith(\"BOS\"):\n",
      "        continue\n",
      "    if line.startswith(\"EOS\"):\n",
      "        print sentence\n",
      "        print output\n",
      "        print\n",
      "        sentence = \"\"\n",
      "        output = \"\"\n",
      "        continue\n",
      "    if line.rstrip().endswith(\"X\"):\n",
      "        output += \"X\"\n",
      "    else:\n",
      "        output += \" \"\n",
      "    sentence += line[0]"
     ],
     "language": "python",
     "metadata": {},
     "outputs": []
    },
    {
     "cell_type": "code",
     "collapsed": false,
     "input": [],
     "language": "python",
     "metadata": {},
     "outputs": []
    }
   ],
   "metadata": {}
  }
 ]
}