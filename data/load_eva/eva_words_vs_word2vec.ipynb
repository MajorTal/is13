{
 "metadata": {
  "name": "",
  "signature": "sha256:ccfbc050acdfb575282bf05d236b57820cca2188ad81cfd12b2670f086b81721"
 },
 "nbformat": 3,
 "nbformat_minor": 0,
 "worksheets": [
  {
   "cells": [
    {
     "cell_type": "code",
     "collapsed": false,
     "input": [
      "import core.grammars.meaning_rules"
     ],
     "language": "python",
     "metadata": {},
     "outputs": []
    },
    {
     "cell_type": "code",
     "collapsed": false,
     "input": [
      "from core.extraction_tools import SIMPLE_DICT"
     ],
     "language": "python",
     "metadata": {},
     "outputs": []
    },
    {
     "cell_type": "code",
     "collapsed": false,
     "input": [
      "expressions = {expression.replace(\" \", \"_\") for expression in SIMPLE_DICT}"
     ],
     "language": "python",
     "metadata": {},
     "outputs": []
    },
    {
     "cell_type": "code",
     "collapsed": false,
     "input": [
      "original_w2v = \"/home/tal/Downloads/GoogleNews-vectors-negative300.bin\"\n",
      "fw2v = \"fw2v.bin\""
     ],
     "language": "python",
     "metadata": {},
     "outputs": []
    },
    {
     "cell_type": "code",
     "collapsed": false,
     "input": [
      "def raw_word2vec(filename):\n",
      "    \"\"\"Iterate on the binary word2vec file\"\"\"\n",
      "    fin = open(filename, \"rb\")\n",
      "    fin.readline() # Header\n",
      "    not_eof = True\n",
      "    while not_eof:\n",
      "        word = []\n",
      "        while True:\n",
      "            ch = fin.read(1)\n",
      "            if ch == b' ':\n",
      "                break\n",
      "            if ch != b'\\n':  # ignore newlines in front of words (some binary files have newline, some don't)\n",
      "                word.append(ch)\n",
      "            if ch == \"\":\n",
      "                not_eof = False\n",
      "                break\n",
      "        word = b''.join(word).decode(\"utf-8\")\n",
      "        vector = fin.read(300*4)\n",
      "        yield word, vector"
     ],
     "language": "python",
     "metadata": {},
     "outputs": []
    },
    {
     "cell_type": "code",
     "collapsed": false,
     "input": [
      "from collections import OrderedDict\n",
      "words = OrderedDict()\n",
      "counter = 0\n",
      "NUM_OF_COMMON_WORDS = 50000\n",
      "for word, vector in raw_word2vec(original_w2v):\n",
      "    word = word.lower()\n",
      "    if \"_\" in word or \"#\" in word or word in words:\n",
      "        continue\n",
      "    if word in eva_words:\n",
      "        words[word] = vector\n",
      "    elif counter < NUM_OF_COMMON_WORDS:\n",
      "        words[word] = vector\n",
      "        counter += 1"
     ],
     "language": "python",
     "metadata": {},
     "outputs": []
    },
    {
     "cell_type": "code",
     "collapsed": false,
     "input": [
      "with open(\"fw2v.bin\", \"wb\") as fout:\n",
      "    fout.write(\"{} 300\\n\".format(len(words)))\n",
      "    for word, vector in words.iteritems():\n",
      "        fout.write(word.encode(\"utf-8\"))\n",
      "        fout.write(\" \")\n",
      "        fout.write(vector)"
     ],
     "language": "python",
     "metadata": {},
     "outputs": []
    },
    {
     "cell_type": "code",
     "collapsed": false,
     "input": [
      "words = {word for phrase in expressions for word in phrase.split(\"_\")}\n",
      "eva_words = set(words)\n",
      "len(eva_words)"
     ],
     "language": "python",
     "metadata": {},
     "outputs": []
    },
    {
     "cell_type": "code",
     "collapsed": false,
     "input": [
      "from gensim.models.word2vec import Word2Vec"
     ],
     "language": "python",
     "metadata": {},
     "outputs": []
    },
    {
     "cell_type": "code",
     "collapsed": false,
     "input": [
      "%time model = Word2Vec.load_word2vec_format(original_w2v, binary=True)  # C text format"
     ],
     "language": "python",
     "metadata": {},
     "outputs": []
    },
    {
     "cell_type": "code",
     "collapsed": false,
     "input": [
      "model.similarity('woman', 'man')"
     ],
     "language": "python",
     "metadata": {},
     "outputs": []
    },
    {
     "cell_type": "code",
     "collapsed": false,
     "input": [
      "model.most_similar(positive=['flight'], negative=[])"
     ],
     "language": "python",
     "metadata": {},
     "outputs": []
    },
    {
     "cell_type": "code",
     "collapsed": false,
     "input": [
      "all_words = [word for word, _vector in raw_word2vec(original_w2v)]\n",
      "len(all_words)"
     ],
     "language": "python",
     "metadata": {},
     "outputs": []
    },
    {
     "cell_type": "code",
     "collapsed": false,
     "input": [
      "vars(model.vocab[\"hello\"])"
     ],
     "language": "python",
     "metadata": {},
     "outputs": []
    },
    {
     "cell_type": "code",
     "collapsed": false,
     "input": [
      "2979603 + 20397"
     ],
     "language": "python",
     "metadata": {},
     "outputs": []
    },
    {
     "cell_type": "code",
     "collapsed": false,
     "input": [
      "for i, w in enumerate(all_words):\n",
      "    if \"hello\" in w.lower() and \"there\" in w.lower():\n",
      "        print i, w "
     ],
     "language": "python",
     "metadata": {},
     "outputs": []
    },
    {
     "cell_type": "code",
     "collapsed": false,
     "input": [
      "model.similarity(\"hello\", \"HELLO_THERE\")"
     ],
     "language": "python",
     "metadata": {},
     "outputs": []
    },
    {
     "cell_type": "code",
     "collapsed": false,
     "input": [
      "filtered_model.most_similar(positive=['flight', \"table\"], negative=[\"flights\"])"
     ],
     "language": "python",
     "metadata": {},
     "outputs": []
    },
    {
     "cell_type": "code",
     "collapsed": false,
     "input": [
      "filtered_model = Word2Vec.load_word2vec_format(fw2v, binary=True)  # C text format"
     ],
     "language": "python",
     "metadata": {},
     "outputs": []
    },
    {
     "cell_type": "code",
     "collapsed": false,
     "input": [
      "model.similarity(\"hello\", \"Hello\")"
     ],
     "language": "python",
     "metadata": {},
     "outputs": []
    },
    {
     "cell_type": "code",
     "collapsed": false,
     "input": [],
     "language": "python",
     "metadata": {},
     "outputs": []
    }
   ],
   "metadata": {}
  }
 ]
}