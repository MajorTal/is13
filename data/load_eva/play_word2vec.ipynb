{
 "metadata": {
  "name": "",
  "signature": "sha256:1edaafe9ef5cc5e838fd702efc9ba840370e7672d3059cce243e719faa7fe5ee"
 },
 "nbformat": 3,
 "nbformat_minor": 0,
 "worksheets": [
  {
   "cells": [
    {
     "cell_type": "code",
     "collapsed": false,
     "input": [
      "from __future__ import unicode_literals, division\n",
      "from gensim.models.word2vec import Word2Vec\n",
      "import re\n",
      "filename = \"/home/tal/Downloads/GoogleNews-vectors-negative300.bin\""
     ],
     "language": "python",
     "metadata": {},
     "outputs": [],
     "prompt_number": 1
    },
    {
     "cell_type": "code",
     "collapsed": false,
     "input": [
      "fin = open(filename, \"rb\")\n",
      "print fin.readline()\n",
      "counter = 0\n",
      "while counter < 10000:\n",
      "    word = []\n",
      "    while True:\n",
      "        ch = fin.read(1)\n",
      "        if ch == b' ':\n",
      "            break\n",
      "        if ch != b'\\n':  # ignore newlines in front of words (some binary files have newline, some don't)\n",
      "            word.append(ch)\n",
      "    word = b''.join(word).decode(\"utf-8\")\n",
      "    if 9100 > counter > 9000:\n",
      "        print word\n",
      "    counter += 1\n",
      "    fin.read(300*4)\n"
     ],
     "language": "python",
     "metadata": {},
     "outputs": [
      {
       "output_type": "stream",
       "stream": "stdout",
       "text": [
        "3000000 300\n",
        "\n",
        "Biden"
       ]
      },
      {
       "output_type": "stream",
       "stream": "stdout",
       "text": [
        "\n",
        "Bengals\n",
        "alleging\n",
        "epic\n",
        "blues\n",
        "merchants\n",
        "concludes\n",
        "punished\n",
        "complexity\n",
        "Newark\n",
        "Carpenter\n",
        "pioneer\n",
        "Vietnamese\n",
        "Danish\n",
        "Sunderland\n",
        "dancers\n",
        "Across\n",
        "financed\n",
        "fabric\n",
        "bicycle\n",
        "Vista\n",
        "Pfizer\n",
        "references\n",
        "Clayton\n",
        "forests\n",
        "infections\n",
        "Perth\n",
        "collaborative\n",
        "Admission\n",
        "regards\n",
        "albeit\n",
        "Ahmed\n",
        "dominance\n",
        "Portuguese\n",
        "VoIP\n",
        "uniforms\n",
        "Jennings\n",
        "patrons\n",
        "Blackburn\n",
        "nasty\n",
        "Eventually\n",
        "restart\n",
        "Campus\n",
        "dawn\n",
        "hate_speech\n",
        "wiped\n",
        "holy\n",
        "renewal\n",
        "slashed\n",
        "Georgian\n",
        "plunge\n",
        "O'Neill\n",
        "identical\n",
        "manual\n",
        "comic\n",
        "Christine\n",
        "Vision\n",
        "Nixon\n",
        "prone\n",
        "gaps\n",
        "refers\n",
        "Weber\n",
        "declaring\n",
        "Wang\n",
        "nod\n",
        "allocation\n",
        "autumn\n",
        "Beckham\n",
        "shoe\n",
        "Zach\n",
        "Previously\n",
        "alerts\n",
        "fundamentals\n",
        "exemption\n",
        "thoroughly\n",
        "vibrant\n",
        "Madonna\n",
        "hostages\n",
        "Lexington\n",
        "Norfolk\n",
        "Foley\n",
        "successes\n",
        "tackling\n",
        "repeal\n",
        "Grand_Slam\n",
        "ranch\n",
        "absent\n",
        "Floyd\n",
        "zoo\n",
        "genocide\n",
        "mum\n",
        "lawn\n",
        "telephone_interview\n",
        "Hull\n",
        "Arroyo\n",
        "tense\n",
        "motive\n",
        "cooperative\n",
        "bubble\n"
       ]
      }
     ],
     "prompt_number": 17
    },
    {
     "cell_type": "code",
     "collapsed": false,
     "input": [
      "fin.readline().split()[0]"
     ],
     "language": "python",
     "metadata": {},
     "outputs": [
      {
       "metadata": {},
       "output_type": "pyout",
       "prompt_number": 13,
       "text": [
        "'\\xbe\\x00\\x00\\x88\\xbe\\x00\\x00\\xd5\\xbd\\x00\\x00\\x11=\\x00\\x00]\\xbe\\x00\\x00\\xa9=\\x00\\x009=\\x00\\x00\\x8f\\xbd\\x00\\x001\\xbd\\x00\\x00\\xdd<\\x00\\x00\\xb9\\xbd\\x00\\x00\\xb4;\\x00\\x00L=\\x00\\x00\\x12\\xbd\\x00\\x00u=\\x00\\x00\\x19\\xbe\\x00\\x00\\xb5\\xbc\\x00\\x00\\x08\\xbd\\x00\\x004>\\x00\\x00\\x88\\xbd\\x00\\x00\\x96\\xbc\\x00\\x009<\\x00\\x00-\\xbd\\x00\\x00\\x9e\\xbd\\x00\\x00\\x8f<\\x00\\x00\\xd7\\xbd\\x00\\x00\\xd6\\xbd\\x00\\x00B\\xbd\\x00\\x00\\xf2\\xbc\\x00\\x00|\\xbd\\x00\\x00P\\xbd\\x00\\x00\\xd2\\xbc\\x00\\x00\\xc3\\xbd\\x00\\x00\\xa6\\xbd\\x00\\x00\\xd0\\xbd\\x00\\x00O>\\x00\\x00\\xf3=\\x00\\x009\\xbb\\x00\\x00w\\xbd\\x00\\x00\\xb8<\\x00\\x00\\x06>\\x00\\x00\\xa5=\\x00\\x00\\x1e\\xbe\\x00\\x00\\xa9\\xbd\\x00\\x00$>\\x00\\x00m=\\x00\\x00\\xc8=\\x00\\x00\\xac\\xbc\\x00\\x009\\xbd\\x00\\x00\\x96\\xbd\\x00\\x00\\x8f;\\x00\\x00\\xba\\xbd\\x00\\x00\\x9d<\\x00\\x00\\x88\\xbc\\x00\\x00N\\xbd\\x00\\x00q<\\x00\\x00\\x88\\xbb\\x00\\x00\\x0e=\\x00\\x00k=\\x00\\x00\\xa4=\\x00\\x00\\xcc;\\x00\\x00\\x83=\\x00\\x00\\xc9<\\x00\\x00\\x02=\\x00\\x00\\x00\\xbe\\x00\\x00\\xa0\\xbd\\x00\\x00\\xc9\\xbc\\x00\\x00\\x94\\xbd\\x00\\x00\\xb1\\xbd\\x00\\x00\\x9e\\xbd\\x00\\x002=\\x00\\x00E\\xb9\\x00\\x00;\\xbc\\x00\\x00\\xcb\\xbd\\x00\\x00\\xd7<\\x00\\x00[=\\x00\\x00:=\\x00\\x00\\x92\\xbd\\x00\\x00\\x0e>\\x00\\x00(=\\x00\\x007<\\x00\\x00{\\xbc\\x00\\x00\\x07=\\x00\\x00;>\\x00\\x00\\x8f<\\x00\\x00\\x03\\xbd\\x00\\x00\\xdd=\\x00\\x00\\x07=\\x00\\x00\\x10\\xbd\\x00\\x00_\\xbe\\x00\\x00\\xd1=\\x00\\x00\\xf0\\xbc\\x00\\x00x\\xba\\x00\\x00\\xea\\xbb\\x00\\x00\\xd8\\xbc\\x00\\x00}=\\x00\\x00\\x8b\\xbc\\x00\\x00\\xb2\\xbc\\x00\\x00\\xf4\\xbd\\x00\\x00\\x15<\\x00\\x00\\xd3=\\x00\\x00E\\xbb\\x00\\x00\\x19>\\x00\\x00\\xd9=\\x00\\x00%\\xbd\\x00\\x00\\x97\\xbc\\x00\\x00\\x13=\\x00\\x00\\x1c\\xbd\\x00\\x00i=\\x00\\x00{<\\x00\\x00\\xa2<\\x00\\x009>\\x00\\x00\\x06<\\x00\\x00\\x1b\\xbe\\x00\\x00\\x04=\\x00\\x00!>\\x00\\x00P=\\x00\\x00\\xed\\xbc\\x00\\x004=\\x00\\x00p\\xbd\\x00\\x00K;\\x00\\x00O\\xbc\\x00\\x00%>\\x00\\x00\\xd9=\\x00\\x00'"
       ]
      }
     ],
     "prompt_number": 13
    },
    {
     "cell_type": "code",
     "collapsed": false,
     "input": [
      "%time model = Word2Vec.load_word2vec_format(filename, binary=True)  # C binary format"
     ],
     "language": "python",
     "metadata": {},
     "outputs": []
    },
    {
     "cell_type": "code",
     "collapsed": false,
     "input": [
      "from core.geo.geomatcher import Geomatcher"
     ],
     "language": "python",
     "metadata": {},
     "outputs": []
    },
    {
     "cell_type": "code",
     "collapsed": false,
     "input": [
      "g = Geomatcher(delete_names=False)"
     ],
     "language": "python",
     "metadata": {},
     "outputs": []
    },
    {
     "cell_type": "code",
     "collapsed": false,
     "input": [
      "from core.geo.location import print_names"
     ],
     "language": "python",
     "metadata": {},
     "outputs": []
    },
    {
     "cell_type": "code",
     "collapsed": false,
     "input": [
      "from core.language_filter.main_filter import identify"
     ],
     "language": "python",
     "metadata": {},
     "outputs": []
    },
    {
     "cell_type": "code",
     "collapsed": false,
     "input": [
      "count = 10\n",
      "for l in g.itervalues():\n",
      "    for name in l.standalone_names:\n",
      "        print name"
     ],
     "language": "python",
     "metadata": {},
     "outputs": []
    },
    {
     "cell_type": "code",
     "collapsed": false,
     "input": [
      "import numpy as np"
     ],
     "language": "python",
     "metadata": {},
     "outputs": []
    },
    {
     "cell_type": "code",
     "collapsed": false,
     "input": [
      "model.similarity('ma\u00f1ana', 'manana')"
     ],
     "language": "python",
     "metadata": {},
     "outputs": []
    },
    {
     "cell_type": "code",
     "collapsed": false,
     "input": [
      "model[\"ma\u00f1ana\"]"
     ],
     "language": "python",
     "metadata": {},
     "outputs": []
    },
    {
     "cell_type": "code",
     "collapsed": false,
     "input": [
      "np.linalg.norm(model[\"cat\"] - model[\"aroused\"])"
     ],
     "language": "python",
     "metadata": {},
     "outputs": []
    },
    {
     "cell_type": "code",
     "collapsed": false,
     "input": [
      "def weighted_edit_distance(seq1, seq2, threshold = None):\n",
      "    \"\"\"Calculate the custom-weighted edit distance between strings.\n",
      "\n",
      "    This is basically a weighted damerau_levenshtein with special non-linear weight.\n",
      "    \"\"\"\n",
      "    lower1 = seq1.lower()\n",
      "    lower2 = seq2.lower()\n",
      "    if isinstance(lower1, unicode):\n",
      "        nkfd_form1 = unicodedata.normalize('NFKD', lower1)\n",
      "        trans1 = \"\".join([c for c in nkfd_form1 if not unicodedata.combining(c)])\n",
      "    else:\n",
      "        trans1 = lower1\n",
      "    if isinstance(lower2, unicode):\n",
      "        nkfd_form2 = unicodedata.normalize('NFKD', lower2)\n",
      "        trans2 = \"\".join([c for c in nkfd_form2 if not unicodedata.combining(c)])\n",
      "    else:\n",
      "        trans2 = lower2\n",
      "    # Should I use this: http://www.tablix.org/~avian/blog/archives/2009/01/unicode_transliteration_in_python/ ?\n",
      "    # Add a touch of this: http://stackoverflow.com/questions/1410308/how-to-implement-unicode-string-matching-by-folding-in-python ?\n",
      "    ord1 = [ord(letter) - ord('a') for letter in trans1]\n",
      "    ord2 = [ord(letter) - ord('a') for letter in trans2]\n",
      "    ord_z = ord('z')\n",
      "\n",
      "    def sub_cost(letter1, letter2):\n",
      "        \"\"\"What is the substitution cost of 2 letters?\"\"\"\n",
      "        if seq1[letter1] == seq2[letter2]:\n",
      "            result = 0 # they are equal\n",
      "        elif lower1[letter1] == lower2[letter2]:\n",
      "            result = CAPITALIZATION_COST\n",
      "        elif trans1[letter1] == trans2[letter2]:\n",
      "            result = TRANSLITERATION_COST\n",
      "        elif not ((0 <= ord1[letter1] <= ord_z) and  (0 <= ord2[letter2] <= ord_z)):\n",
      "            result = C2C\n",
      "        else:\n",
      "            # sorted_leters = sorted([ord1[letter1], ord2[letter2]])\n",
      "            result = SUBSTITUTION_COST[ord1[letter1]][ord2[letter2]]\n",
      "\n",
      "        return result\n",
      "\n",
      "    oneago = None\n",
      "    thisrow = range(1, len(seq2) + 1) + [0]\n",
      "    for xxx in xrange(len(seq1)):\n",
      "        # Python lists wrap around for negative indices, so put the leftmost column at the *end* of the list. This matches with\n",
      "        # the zero-indexed strings and saves extra calculation.\n",
      "        twoago, oneago, thisrow = oneago, thisrow, [0] * len(seq2) + [xxx + 1]\n",
      "        for yyy in xrange(len(seq2)):\n",
      "            delcost = oneago[yyy] + 1\n",
      "            addcost = thisrow[yyy - 1] + 1\n",
      "            # No need to calculate subcost if oneago[yyy - 1] alone is already larger than delcost and addcost\n",
      "            subcost = oneago[yyy - 1] + (sub_cost(xxx, yyy) if (oneago[yyy - 1] < delcost and oneago[yyy - 1] < addcost) else 1)\n",
      "            thisrow[yyy] = min(delcost, addcost, subcost)\n",
      "            # This block deals with transpositions\n",
      "            if (xxx > 0 and yyy > 0 and seq1[xxx] == seq2[yyy-1] and seq1[xxx-1] == seq2[yyy] and seq1[xxx] != seq2[yyy]):\n",
      "                thisrow[yyy] = min(thisrow[yyy], twoago[yyy-2] + 1)\n",
      "        if threshold and min(thisrow) > threshold:\n",
      "            return MAX_DISTANCE\n",
      "    return thisrow[len(seq2) - 1]"
     ],
     "language": "python",
     "metadata": {},
     "outputs": []
    },
    {
     "cell_type": "code",
     "collapsed": false,
     "input": [
      "# This is a variant on the above that will return from \"k2\" -> \"k\" and \"2\" as different tokens...\n",
      "WORD_SPLITTER_RE2 = re.compile(r\"\"\"((?P<word>([a-zA-Z\\'.\u221e]+) | [,+])\n",
      "                                                (?=(\\s|$|\\,|!|\\?|-|\\)))) # must be followed by space, punctuation or end-or-sent.\n",
      "                                                |\n",
      "                                                (?P<number>[0-9]+)     (?=(\\s|$|\\,|!|-|[a-zA-Z]))\"\"\",\n",
      "                                                re.VERBOSE)"
     ],
     "language": "python",
     "metadata": {},
     "outputs": []
    },
    {
     "cell_type": "code",
     "collapsed": false,
     "input": [
      "l = [np.array([1, 2, 3, 4], dtype=np.float32), np.array([1, 2, 3, 5], dtype=np.float32), np.array([1, 2, 3, 9], dtype=np.float32)]"
     ],
     "language": "python",
     "metadata": {},
     "outputs": []
    },
    {
     "cell_type": "code",
     "collapsed": false,
     "input": [
      "np.array(l)"
     ],
     "language": "python",
     "metadata": {},
     "outputs": []
    },
    {
     "cell_type": "code",
     "collapsed": false,
     "input": [
      "def vectorize_word(word):\n",
      "    \"\"\"convert a word to a vector\"\"\"\n",
      "    return model[word]\n",
      "\n",
      "def vectorize(sentence):\n",
      "    \"\"\"Convert a sentence to a matrix of floats\"\"\"\n",
      "    assert isinstance(sentence, unicode)\n",
      "    results = []\n",
      "    for match in WORD_SPLITTER_RE2.finditer(sentence):\n",
      "        word = match.group(\"word\")\n",
      "        if word:\n",
      "            results.append(vectorize_word(word))\n",
      "    return np.array(results)\n",
      "vectorize(\"hotel in berlin\")"
     ],
     "language": "python",
     "metadata": {},
     "outputs": []
    },
    {
     "cell_type": "code",
     "collapsed": false,
     "input": [
      "model.doesnt_match([\"hotel\", \"flight\", \"car\", \"train\", \"cat\", \"cruise\"])"
     ],
     "language": "python",
     "metadata": {},
     "outputs": []
    },
    {
     "cell_type": "code",
     "collapsed": false,
     "input": [
      "model.most_similar_cosmul(\"san_francisco\")"
     ],
     "language": "python",
     "metadata": {},
     "outputs": []
    },
    {
     "cell_type": "code",
     "collapsed": false,
     "input": [
      " model.most_similar(positive=['ma\u00f1ana', ], negative=[])"
     ],
     "language": "python",
     "metadata": {},
     "outputs": []
    },
    {
     "cell_type": "code",
     "collapsed": false,
     "input": [
      "import theano, numpy\n",
      "ne = 5000 # len(idx2word) = :: number of word embeddings in the vocabulary\n",
      "de = len(model[\"hotel\"]) # dimension of the word embeddings\n",
      "        \n",
      "emb = theano.shared(0.2 * numpy.random.uniform(-1.0, 1.0, (ne + 1, de)).astype(theano.config.floatX))"
     ],
     "language": "python",
     "metadata": {},
     "outputs": []
    },
    {
     "cell_type": "code",
     "collapsed": false,
     "input": [
      "emb_value = emb.get_value()"
     ],
     "language": "python",
     "metadata": {},
     "outputs": []
    },
    {
     "cell_type": "code",
     "collapsed": false,
     "input": [
      "emb_value[0] = model[\"chart\"]\n",
      "numpy.linalg.norm(emb_value[0])"
     ],
     "language": "python",
     "metadata": {},
     "outputs": []
    },
    {
     "cell_type": "code",
     "collapsed": false,
     "input": [
      " model.most_similar(positive=['king', 'woman'], negative=['man'])"
     ],
     "language": "python",
     "metadata": {},
     "outputs": []
    },
    {
     "cell_type": "code",
     "collapsed": false,
     "input": [
      " model.most_similar(positive=['january'])"
     ],
     "language": "python",
     "metadata": {},
     "outputs": []
    },
    {
     "cell_type": "code",
     "collapsed": false,
     "input": [
      "fnx = lambda v : numpy.random.randint(0, 10, v)"
     ],
     "language": "python",
     "metadata": {},
     "outputs": []
    },
    {
     "cell_type": "code",
     "collapsed": false,
     "input": [
      "fnx(23)"
     ],
     "language": "python",
     "metadata": {},
     "outputs": []
    },
    {
     "cell_type": "code",
     "collapsed": false,
     "input": [
      "emb_value[3] = 0.2 * numpy.ones(emb_value.shape[1])"
     ],
     "language": "python",
     "metadata": {},
     "outputs": []
    },
    {
     "cell_type": "code",
     "collapsed": false,
     "input": [
      "emb_value[:4]"
     ],
     "language": "python",
     "metadata": {},
     "outputs": []
    },
    {
     "cell_type": "code",
     "collapsed": false,
     "input": [
      "xx = numpy.random.uniform(-1.0, 1.0, (7, 5)).astype(theano.config.floatX)\n",
      "xx"
     ],
     "language": "python",
     "metadata": {},
     "outputs": []
    },
    {
     "cell_type": "code",
     "collapsed": false,
     "input": [
      "xx[3] = 1"
     ],
     "language": "python",
     "metadata": {},
     "outputs": []
    },
    {
     "cell_type": "code",
     "collapsed": false,
     "input": [
      "xx"
     ],
     "language": "python",
     "metadata": {},
     "outputs": []
    },
    {
     "cell_type": "code",
     "collapsed": false,
     "input": [
      "xx[:, 1] = 1"
     ],
     "language": "python",
     "metadata": {},
     "outputs": []
    },
    {
     "cell_type": "code",
     "collapsed": false,
     "input": [
      "xx[2] = numpy.array([1, ])"
     ],
     "language": "python",
     "metadata": {},
     "outputs": []
    },
    {
     "cell_type": "code",
     "collapsed": false,
     "input": [
      "np = numpy\n",
      "x = np.array([[[1],[2],[3]], [[4],[5],[6]]])"
     ],
     "language": "python",
     "metadata": {},
     "outputs": []
    },
    {
     "cell_type": "code",
     "collapsed": false,
     "input": [
      "x"
     ],
     "language": "python",
     "metadata": {},
     "outputs": []
    },
    {
     "cell_type": "code",
     "collapsed": false,
     "input": [
      "x[1:]"
     ],
     "language": "python",
     "metadata": {},
     "outputs": []
    },
    {
     "cell_type": "code",
     "collapsed": false,
     "input": [
      "x[0:1]"
     ],
     "language": "python",
     "metadata": {},
     "outputs": []
    },
    {
     "cell_type": "code",
     "collapsed": false,
     "input": [
      "x[1:2]"
     ],
     "language": "python",
     "metadata": {},
     "outputs": []
    },
    {
     "cell_type": "code",
     "collapsed": false,
     "input": [
      "x[..., 0]"
     ],
     "language": "python",
     "metadata": {},
     "outputs": []
    },
    {
     "cell_type": "code",
     "collapsed": false,
     "input": [
      "x[:, :, 0]"
     ],
     "language": "python",
     "metadata": {},
     "outputs": []
    },
    {
     "cell_type": "code",
     "collapsed": false,
     "input": [
      "model[\"Augustine\"]"
     ],
     "language": "python",
     "metadata": {},
     "outputs": []
    },
    {
     "cell_type": "code",
     "collapsed": false,
     "input": [
      "\"augustine\".capitalize()"
     ],
     "language": "python",
     "metadata": {},
     "outputs": []
    },
    {
     "cell_type": "code",
     "collapsed": false,
     "input": [],
     "language": "python",
     "metadata": {},
     "outputs": []
    }
   ],
   "metadata": {}
  }
 ]
}