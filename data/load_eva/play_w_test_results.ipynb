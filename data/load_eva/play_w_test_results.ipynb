{
 "metadata": {
  "name": "",
  "signature": "sha256:549e0c49117a63bb9524b19b2b0e19076ffa7402103cebee3efa157b27687ded"
 },
 "nbformat": 3,
 "nbformat_minor": 0,
 "worksheets": [
  {
   "cells": [
    {
     "cell_type": "code",
     "collapsed": false,
     "input": [
      "from __future__ import unicode_literals, division\n",
      "filename = \"best.test.txt\"\n",
      "tests = open(filename).read()"
     ],
     "language": "python",
     "metadata": {},
     "outputs": [],
     "prompt_number": 76
    },
    {
     "cell_type": "code",
     "collapsed": false,
     "input": [
      "all_tests = []\n",
      "test = []\n",
      "for line in tests.splitlines():\n",
      "    if not line.strip():\n",
      "        if test:\n",
      "            all_tests.append(test)\n",
      "        test = [] # New test\n",
      "    else:\n",
      "        test.append(line.split())"
     ],
     "language": "python",
     "metadata": {},
     "outputs": [],
     "prompt_number": 77
    },
    {
     "cell_type": "code",
     "collapsed": false,
     "input": [
      "failed_tests = []\n",
      "for test in all_tests:\n",
      "    if any(result != expected for word, result, expected in test):\n",
      "        failed_tests.append(test)\n"
     ],
     "language": "python",
     "metadata": {},
     "outputs": [],
     "prompt_number": 78
    },
    {
     "cell_type": "code",
     "collapsed": false,
     "input": [
      "len(all_tests), len(failed_tests), len(failed_tests) / len(all_tests)"
     ],
     "language": "python",
     "metadata": {},
     "outputs": [
      {
       "metadata": {},
       "output_type": "pyout",
       "prompt_number": 79,
       "text": [
        "(8495, 191, 0.022483814008240142)"
       ]
      }
     ],
     "prompt_number": 79
    },
    {
     "cell_type": "code",
     "collapsed": false,
     "input": [
      "def print_test(test):\n",
      "    test = test[1:-1]\n",
      "    print \" \".join(word for word, result, expected in test)\n",
      "    print \"DateTimeParser:\", \" \".join(result for word, result, expected in test)\n",
      "    print \"Neural Network:\", \" \".join(expected for word, result, expected in test)"
     ],
     "language": "python",
     "metadata": {},
     "outputs": [],
     "prompt_number": 80
    },
    {
     "cell_type": "code",
     "collapsed": false,
     "input": [
      "from collections import Counter\n",
      "bad_words = Counter()\n",
      "for test in failed_tests:\n",
      "    for word, result, expected in test:\n",
      "        if result != expected:\n",
      "            bad_words[word] += 1\n",
      "            if word == \"the\":\n",
      "                print_test(test)\n",
      "                print"
     ],
     "language": "python",
     "metadata": {},
     "outputs": [
      {
       "output_type": "stream",
       "stream": "stdout",
       "text": [
        "find an intermediate car in fredericksburg virginia 18th to the 20th\n",
        "DateTimeParser: O O O O O O O B-when I-when I-when I-when\n",
        "Neural Network: O O O O O O O B-when O B-when I-when\n",
        "\n",
        "from atlanta to dallas the 6th through the 12\n",
        "DateTimeParser: O O O O B-when I-when O O O\n",
        "Neural Network: O O O O B-when I-when I-when I-when I-when\n",
        "\n",
        "flights for early in the morning\n",
        "DateTimeParser: O O B-when I-when I-when I-when\n",
        "Neural Network: O O O O O I-when\n",
        "\n",
        "hotels in springfield missouri checking in on the for saturday and checking out on the 10th of october\n",
        "DateTimeParser: O O O O O O O O O B-when O O O B-when I-when I-when I-when I-when\n",
        "Neural Network: O O O O O O B-when I-when O B-when O O O B-when I-when I-when I-when I-when\n",
        "\n",
        "i need a hotel in atlanta from the 18th to the 20 a\n",
        "DateTimeParser: O O O O O O O B-when I-when O O O O\n",
        "Neural Network: O O O O O O B-when I-when I-when I-when I-when I-when O\n",
        "\n",
        "i need a hotel in atlanta from the 18th to the 20 a\n",
        "DateTimeParser: O O O O O O O B-when I-when O O O O\n",
        "Neural Network: O O O O O O B-when I-when I-when I-when I-when I-when O\n",
        "\n",
        "for the 22nd\n",
        "DateTimeParser: O B-when I-when\n",
        "Neural Network: O O I-when\n",
        "\n",
        "i like to go to dibben on the first flight on the morning of the\n",
        "DateTimeParser: O O O O O O B-when I-when I-when O B-when I-when I-when O O\n",
        "Neural Network: O O O O O O O O O O B-when I-when I-when I-when O\n",
        "\n",
        "mcdonough georgia on the 23rd of december to the 27th\n",
        "DateTimeParser: O O B-when B-when I-when I-when I-when I-when I-when I-when\n",
        "Neural Network: O O B-when I-when I-when I-when I-when I-when I-when I-when\n",
        "\n",
        "i need a hotel in new york from the 15th through the 12 30th\n",
        "DateTimeParser: O O O O O O O O B-when I-when O O O B-when\n",
        "Neural Network: O O O O O O O B-when I-when I-when I-when I-when I-when I-when\n",
        "\n",
        "i need a hotel in new york from the 15th through the 12 30th\n",
        "DateTimeParser: O O O O O O O O B-when I-when O O O B-when\n",
        "Neural Network: O O O O O O O B-when I-when I-when I-when I-when I-when I-when\n",
        "\n",
        "i need a rental car in bothell washington for tomorrow through the 21st\n",
        "DateTimeParser: O O O O O O O O O B-when O B-when I-when\n",
        "Neural Network: O O O O O O O O O B-when I-when I-when I-when\n",
        "\n",
        "find a room in nashville at 11 oh i forgot the 9th\n",
        "DateTimeParser: O O O O O O O O O O B-when I-when\n",
        "Neural Network: O O O O O B-when I-when O O O O I-when\n",
        "\n",
        "i give me an option for the third airport\n",
        "DateTimeParser: O O O O O O B-when I-when O\n",
        "Neural Network: O O O O O O O O O\n",
        "\n",
        "find a hotel in monticello arkansas checking on the 25th\n",
        "DateTimeParser: O O O O O O O B-when I-when I-when\n",
        "Neural Network: O O O O O O O O B-when I-when\n",
        "\n",
        "the departure date would be august 11 the return date would be the 14th\n",
        "DateTimeParser: O O O O O B-when I-when O O O O O B-when I-when\n",
        "Neural Network: O O O O O B-when I-when O O B-when O O O I-when\n",
        "\n"
       ]
      }
     ],
     "prompt_number": 81
    },
    {
     "cell_type": "code",
     "collapsed": false,
     "input": [
      "bad_words"
     ],
     "language": "python",
     "metadata": {},
     "outputs": [
      {
       "metadata": {},
       "output_type": "pyout",
       "prompt_number": 67,
       "text": [
        "Counter({'the': 30, 'on': 23, 'in': 16, 'from': 13, 'to': 12, 'march': 9, 'now': 9, 'july': 9, 'at': 9, 'may': 9, 'december': 8, 'april': 7, 'and': 7, 'august': 6, 'tonight': 6, 'june': 6, 'through': 5, '20': 5, '4': 5, 'day': 5, 'night': 5, '7': 5, 'of': 5, 'monday': 5, '12': 5, 'early': 4, 'spring': 4, 'nights': 4, 'september': 3, 'late': 3, '2015': 3, 'holiday': 3, 'wednesday': 3, '19': 3, '30': 3, 'tuesday': 3, 'next': 3, '10': 3, 'thru': 3, 'this': 3, '1': 3, '9': 3, 'week': 3, 'mar': 3, \"'s\": 3, 'may15': 2, 'summer': 2, '14th': 2, '27th': 2, 'janeiro': 2, '12th': 2, 'second': 2, 'tonight.': 2, '3': 2, '3d': 2, 'friday': 2, 'november': 2, 'afternoon': 2, 'first': 2, 'tomorrow': 2, '5th': 2, 'until': 2, 'jun': 2, '31st': 2, '11': 2, 'third': 2, 'months': 2, 'evening': 2, 'sunday': 2, '5': 2, '2nd': 2, 'quarters': 1, 'joanna': 1, 'years': 1, '24th': 1, 'weekly': 1, '25': 1, '21st': 1, 'death': 1, '28': 1, '29': 1, '2014': 1, '2011': 1, '2010': 1, '2013': 1, 'mornin': 1, 'mayo': 1, 'october': 1, 'every': 1, 'mon': 1, 'nov': 1, 'minute': 1, '17th': 1, '17': 1, 'morning': 1, 'februari': 1, 'independence': 1, 'right': 1, '29th': 1, 'street': 1, 'dawn': 1, 'saturday': 1, '/': 1, 'p.m.': 1, 'between': 1, 'new': 1, 'christmas': 1, '15th': 1, 'be': 1, '27': 1, 'beginning': 1, '77429': 1, 'dates': 1, '31': 1, '35': 1, 'a.m.': 1, 'sept': 1, '30th': 1, '450': 1, 'one': 1, 'fert': 1, 'juli\\xc3\\xa1n': 1, 'three': 1, 'live': 1, '2': 1, '1d': 1, '6': 1, ':': 1, 'today': 1, 'sixteenth': 1, '468': 1, '26th': 1, '5.10': 1, '220': 1, '13': 1, 'hour': 1, '18': 1, 'up': 1, 'i35': 1, 'apples': 1, '9th': 1, '10th': 1, 'dtw': 1, 'utiles': 1, 'is': 1, 'an': 1, 'madea': 1, 'mins': 1, '11th': 1, 'winter': 1, 'min': 1, '41': 1, 'till': 1, 'valentines': 1, 'two': 1, 'mai': 1, '22nd': 1, '18th': 1, 'mass': 1, 'logros': 1})"
       ]
      }
     ],
     "prompt_number": 67
    },
    {
     "cell_type": "code",
     "collapsed": false,
     "input": [
      "from core.factory import get_time_parser\n",
      "from core.locales import Locales\n",
      "DTP = get_time_parser()\n",
      "expected_meaning = None\n",
      "sentence = \"from atlanta to dallas the 6th through the 12\"\n",
      "sentence = \"the second part of my\"\n",
      "results = DTP.search(sentence, enable_typos=False, locale=Locales.english_us,\n",
      "                      expected_meaning=expected_meaning, from_speech=True, search_within_results=False)\n",
      "for _, start, length, _ in results:\n",
      "    print sentence[start:start+length]"
     ],
     "language": "python",
     "metadata": {},
     "outputs": [
      {
       "output_type": "stream",
       "stream": "stdout",
       "text": [
        "the second\n"
       ]
      }
     ],
     "prompt_number": 73
    },
    {
     "cell_type": "code",
     "collapsed": false,
     "input": [
      "import re"
     ],
     "language": "python",
     "metadata": {},
     "outputs": [],
     "prompt_number": 74
    },
    {
     "cell_type": "code",
     "collapsed": false,
     "input": [
      "re.search(r'second(?![\\s\\-]?(half|week|part))', \"the second part of my\")"
     ],
     "language": "python",
     "metadata": {},
     "outputs": [],
     "prompt_number": 75
    },
    {
     "cell_type": "code",
     "collapsed": false,
     "input": [],
     "language": "python",
     "metadata": {},
     "outputs": []
    }
   ],
   "metadata": {}
  }
 ]
}