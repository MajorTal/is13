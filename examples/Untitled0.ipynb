{
 "metadata": {
  "name": "",
  "signature": "sha256:f539b058e878a064fcf3868369f9ff66062725ce03159b8e08d707745f0f2baf"
 },
 "nbformat": 3,
 "nbformat_minor": 0,
 "worksheets": [
  {
   "cells": [
    {
     "cell_type": "code",
     "collapsed": false,
     "input": [
      ">>> from theano import tensor\n",
      ">>> x = tensor.matrix('features')"
     ],
     "language": "python",
     "metadata": {},
     "outputs": [],
     "prompt_number": 1
    },
    {
     "cell_type": "code",
     "collapsed": false,
     "input": [
      ">>> from blocks.bricks import Linear, Rectifier, Softmax\n",
      ">>> input_to_hidden = Linear(name='input_to_hidden', input_dim=784, output_dim=100)\n",
      ">>> h = Rectifier().apply(input_to_hidden.apply(x))\n",
      ">>> hidden_to_output = Linear(name='hidden_to_output', input_dim=100, output_dim=10)\n",
      ">>> y_hat = Softmax().apply(hidden_to_output.apply(h))"
     ],
     "language": "python",
     "metadata": {},
     "outputs": [],
     "prompt_number": 2
    },
    {
     "cell_type": "code",
     "collapsed": false,
     "input": [
      ">>> y = tensor.lmatrix('targets')\n",
      ">>> from blocks.bricks.cost import CategoricalCrossEntropy\n",
      ">>> cost = CategoricalCrossEntropy().apply(y.flatten(), y_hat)"
     ],
     "language": "python",
     "metadata": {},
     "outputs": [],
     "prompt_number": 3
    },
    {
     "cell_type": "code",
     "collapsed": false,
     "input": [
      ">>> from blocks.bricks import WEIGHTS\n",
      ">>> from blocks.graph import ComputationGraph\n",
      ">>> from blocks.filter import VariableFilter\n",
      ">>> cg = ComputationGraph(cost)\n",
      ">>> W1, W2 = VariableFilter(roles=[WEIGHTS])(cg.variables)\n",
      ">>> cost = cost + 0.005 * (W1 ** 2).sum() + 0.005 * (W2 ** 2).sum()\n",
      ">>> cost.name = 'cost_with_regularization'"
     ],
     "language": "python",
     "metadata": {},
     "outputs": [],
     "prompt_number": 4
    },
    {
     "cell_type": "code",
     "collapsed": false,
     "input": [
      ">>> from blocks.bricks import MLP\n",
      ">>> mlp = MLP(activations=[Rectifier(), Softmax()], dims=[784, 100, 10]).apply(x)"
     ],
     "language": "python",
     "metadata": {},
     "outputs": [],
     "prompt_number": 5
    },
    {
     "cell_type": "code",
     "collapsed": false,
     "input": [
      ">>> from blocks.initialization import IsotropicGaussian, Constant\n",
      ">>> input_to_hidden.weights_init = hidden_to_output.weights_init = IsotropicGaussian(0.01)\n",
      ">>> input_to_hidden.biases_init = hidden_to_output.biases_init = Constant(0)\n",
      ">>> input_to_hidden.initialize()\n",
      ">>> hidden_to_output.initialize()"
     ],
     "language": "python",
     "metadata": {},
     "outputs": [],
     "prompt_number": 6
    },
    {
     "cell_type": "code",
     "collapsed": false,
     "input": [
      ">>> from blocks.datasets.mnist import MNIST\n",
      ">>> mnist = MNIST(\"train\")"
     ],
     "language": "python",
     "metadata": {},
     "outputs": [],
     "prompt_number": 7
    },
    {
     "cell_type": "code",
     "collapsed": false,
     "input": [
      ">>> from blocks.datasets import DataStream\n",
      ">>> from blocks.datasets.schemes import SequentialScheme\n",
      ">>> data_stream = DataStream(mnist, iteration_scheme=SequentialScheme(\n",
      "...     num_examples=mnist.num_examples, batch_size=256))"
     ],
     "language": "python",
     "metadata": {},
     "outputs": [],
     "prompt_number": 8
    },
    {
     "cell_type": "code",
     "collapsed": false,
     "input": [
      ">>> from blocks.algorithms import GradientDescent, SteepestDescent\n",
      ">>> algorithm = GradientDescent(cost=cost, step_rule=SteepestDescent(learning_rate=0.1))"
     ],
     "language": "python",
     "metadata": {},
     "outputs": [],
     "prompt_number": 9
    },
    {
     "cell_type": "code",
     "collapsed": false,
     "input": [
      ">>> mnist_test = MNIST(\"test\")\n",
      ">>> data_stream_test = DataStream(mnist_test, iteration_scheme=SequentialScheme(\n",
      "...     num_examples=mnist_test.num_examples, batch_size=1024))"
     ],
     "language": "python",
     "metadata": {},
     "outputs": [],
     "prompt_number": 10
    },
    {
     "cell_type": "code",
     "collapsed": false,
     "input": [
      ">>> from blocks.extensions.monitoring import DataStreamMonitoring\n",
      ">>> monitor = DataStreamMonitoring(\n",
      "...     variables=[cost], data_stream=data_stream_test, prefix=\"test\")"
     ],
     "language": "python",
     "metadata": {},
     "outputs": [],
     "prompt_number": 11
    },
    {
     "cell_type": "code",
     "collapsed": false,
     "input": [
      ">>> from blocks.main_loop import MainLoop\n",
      ">>> from blocks.extensions import FinishAfter, Printing\n",
      ">>> main_loop = MainLoop(model=mlp, data_stream=data_stream, algorithm=algorithm,\n",
      "...                      extensions=[monitor, FinishAfter(after_n_epochs=1), Printing()])\n",
      ">>> main_loop.run()"
     ],
     "language": "python",
     "metadata": {},
     "outputs": [
      {
       "output_type": "stream",
       "stream": "stderr",
       "text": [
        "ERROR:blocks.main_loop:Traceback (most recent call last):\n",
        "  File \"/usr/local/lib/python2.7/dist-packages/blocks/main_loop.py\", line 105, in run\n",
        "    while self._run_epoch():\n",
        "  File \"/usr/local/lib/python2.7/dist-packages/blocks/main_loop.py\", line 144, in _run_epoch\n",
        "    self._run_extensions('before_epoch')\n",
        "  File \"/usr/local/lib/python2.7/dist-packages/blocks/main_loop.py\", line 172, in _run_extensions\n",
        "    extension.dispatch(method_name, *args)\n",
        "  File \"/usr/local/lib/python2.7/dist-packages/blocks/extensions/__init__.py\", line 273, in dispatch\n",
        "    self.do(callback_invoked, *(from_main_loop + tuple(arguments)))\n",
        "  File \"/usr/local/lib/python2.7/dist-packages/blocks/extensions/monitoring.py\", line 52, in do\n",
        "    value_dict = self._evaluator.evaluate(self.data_stream)\n",
        "  File \"/usr/local/lib/python2.7/dist-packages/blocks/monitoring/evaluators.py\", line 215, in evaluate\n",
        "    for batch in data_stream.get_epoch_iterator(as_dict=True):\n",
        "  File \"/usr/local/lib/python2.7/dist-packages/six.py\", line 535, in next\n",
        "    return type(self).__next__(self)\n",
        "  File \"/usr/local/lib/python2.7/dist-packages/blocks/datasets/__init__.py\", line 817, in __next__\n",
        "    data = self.data_stream.get_data(next(self.request_iterator))\n",
        "  File \"/usr/local/lib/python2.7/dist-packages/blocks/datasets/__init__.py\", line 508, in get_data\n",
        "    return self.dataset.get_data(self.data_state, request)\n",
        "  File \"/usr/local/lib/python2.7/dist-packages/blocks/datasets/mnist.py\", line 91, in get_data\n",
        "    return self.filter_sources((self.features[request],\n",
        "  File \"/usr/local/lib/python2.7/dist-packages/blocks/datasets/__init__.py\", line 305, in lazy_property_getter\n",
        "    self.load()\n",
        "  File \"/usr/local/lib/python2.7/dist-packages/blocks/datasets/mnist.py\", line 80, in load\n",
        "    else theano.config.floatX)[self.start:self.stop]\n",
        "  File \"/usr/local/lib/python2.7/dist-packages/blocks/datasets/mnist.py\", line 125, in read_mnist_images\n",
        "    with open(filename, 'rb') as f:\n",
        "IOError: [Errno 2] No such file or directory: '/home/tal/datasets/mnist/t10k-images-idx3-ubyte'\n",
        "\n"
       ]
      },
      {
       "output_type": "stream",
       "stream": "stdout",
       "text": [
        "\n",
        "-------------------------------------------------------------------------------\n",
        "TRAINING HAS BEEN FINISHED:\n",
        "-------------------------------------------------------------------------------\n",
        "Training status:\n",
        "\t epochs_done: 0\n",
        "\t iterations_done: 0\n",
        "Log records from the iteration 0:\n",
        "\n"
       ]
      }
     ],
     "prompt_number": 12
    },
    {
     "cell_type": "code",
     "collapsed": false,
     "input": [
      "main_loop.run()"
     ],
     "language": "python",
     "metadata": {},
     "outputs": [
      {
       "output_type": "stream",
       "stream": "stderr",
       "text": [
        "ERROR:blocks.main_loop:Traceback (most recent call last):\n",
        "  File \"/usr/local/lib/python2.7/dist-packages/blocks/main_loop.py\", line 98, in run\n",
        "    self.algorithm.initialize()\n",
        "  File \"/usr/local/lib/python2.7/dist-packages/blocks/algorithms/__init__.py\", line 198, in initialize\n",
        "    self._function = theano.function(self.inputs, [], updates=all_updates)\n",
        "  File \"/usr/local/lib/python2.7/dist-packages/theano/compile/function.py\", line 223, in function\n",
        "    profile=profile)\n",
        "  File \"/usr/local/lib/python2.7/dist-packages/theano/compile/pfunc.py\", line 490, in pfunc\n",
        "    no_default_updates=no_default_updates)\n",
        "  File \"/usr/local/lib/python2.7/dist-packages/theano/compile/pfunc.py\", line 198, in rebuild_collect_shared\n",
        "    (store_into, update_d[store_into]))\n",
        "ValueError: ('this shared variable already has an update expression', (b, Elemwise{add,no_inplace}.0))\n",
        "\n"
       ]
      },
      {
       "output_type": "stream",
       "stream": "stdout",
       "text": [
        "\n",
        "-------------------------------------------------------------------------------\n",
        "TRAINING HAS BEEN FINISHED:\n",
        "-------------------------------------------------------------------------------\n",
        "Training status:\n",
        "\t epochs_done: 0\n",
        "\t iterations_done: 0\n",
        "Log records from the iteration 0:\n",
        "\n"
       ]
      }
     ],
     "prompt_number": 14
    },
    {
     "cell_type": "code",
     "collapsed": false,
     "input": [],
     "language": "python",
     "metadata": {},
     "outputs": []
    }
   ],
   "metadata": {}
  }
 ]
}